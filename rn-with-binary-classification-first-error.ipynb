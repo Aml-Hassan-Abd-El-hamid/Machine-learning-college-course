{
 "cells": [
  {
   "cell_type": "code",
   "execution_count": 1,
   "id": "20b34dd1",
   "metadata": {
    "execution": {
     "iopub.execute_input": "2023-03-13T11:30:19.592754Z",
     "iopub.status.busy": "2023-03-13T11:30:19.591741Z",
     "iopub.status.idle": "2023-03-13T11:30:32.765949Z",
     "shell.execute_reply": "2023-03-13T11:30:32.764132Z"
    },
    "papermill": {
     "duration": 13.184854,
     "end_time": "2023-03-13T11:30:32.769396",
     "exception": false,
     "start_time": "2023-03-13T11:30:19.584542",
     "status": "completed"
    },
    "tags": []
   },
   "outputs": [
    {
     "name": "stdout",
     "output_type": "stream",
     "text": [
      "Collecting easyfsl\r\n",
      "  Downloading easyfsl-1.1.0-py3-none-any.whl (45 kB)\r\n",
      "\u001b[2K     \u001b[90m━━━━━━━━━━━━━━━━━━━━━━━━━━━━━━━━━━━━━━━━\u001b[0m \u001b[32m45.2/45.2 kB\u001b[0m \u001b[31m2.5 MB/s\u001b[0m eta \u001b[36m0:00:00\u001b[0m\r\n",
      "\u001b[?25hRequirement already satisfied: torch>=1.4.0 in /opt/conda/lib/python3.7/site-packages (from easyfsl) (1.13.0+cpu)\r\n",
      "Requirement already satisfied: pandas>=1.1.0 in /opt/conda/lib/python3.7/site-packages (from easyfsl) (1.3.5)\r\n",
      "Requirement already satisfied: torchvision>=0.7.0 in /opt/conda/lib/python3.7/site-packages (from easyfsl) (0.14.0+cpu)\r\n",
      "Requirement already satisfied: matplotlib>=3.0.0 in /opt/conda/lib/python3.7/site-packages (from easyfsl) (3.5.3)\r\n",
      "Requirement already satisfied: tqdm>=4.1.0 in /opt/conda/lib/python3.7/site-packages (from easyfsl) (4.64.1)\r\n",
      "Requirement already satisfied: numpy>=1.17 in /opt/conda/lib/python3.7/site-packages (from matplotlib>=3.0.0->easyfsl) (1.21.6)\r\n",
      "Requirement already satisfied: fonttools>=4.22.0 in /opt/conda/lib/python3.7/site-packages (from matplotlib>=3.0.0->easyfsl) (4.38.0)\r\n",
      "Requirement already satisfied: kiwisolver>=1.0.1 in /opt/conda/lib/python3.7/site-packages (from matplotlib>=3.0.0->easyfsl) (1.4.4)\r\n",
      "Requirement already satisfied: cycler>=0.10 in /opt/conda/lib/python3.7/site-packages (from matplotlib>=3.0.0->easyfsl) (0.11.0)\r\n",
      "Requirement already satisfied: pyparsing>=2.2.1 in /opt/conda/lib/python3.7/site-packages (from matplotlib>=3.0.0->easyfsl) (3.0.9)\r\n",
      "Requirement already satisfied: pillow>=6.2.0 in /opt/conda/lib/python3.7/site-packages (from matplotlib>=3.0.0->easyfsl) (9.4.0)\r\n",
      "Requirement already satisfied: python-dateutil>=2.7 in /opt/conda/lib/python3.7/site-packages (from matplotlib>=3.0.0->easyfsl) (2.8.2)\r\n",
      "Requirement already satisfied: packaging>=20.0 in /opt/conda/lib/python3.7/site-packages (from matplotlib>=3.0.0->easyfsl) (23.0)\r\n",
      "Requirement already satisfied: pytz>=2017.3 in /opt/conda/lib/python3.7/site-packages (from pandas>=1.1.0->easyfsl) (2022.7.1)\r\n",
      "Requirement already satisfied: typing-extensions in /opt/conda/lib/python3.7/site-packages (from torch>=1.4.0->easyfsl) (4.4.0)\r\n",
      "Requirement already satisfied: requests in /opt/conda/lib/python3.7/site-packages (from torchvision>=0.7.0->easyfsl) (2.28.2)\r\n",
      "Requirement already satisfied: six>=1.5 in /opt/conda/lib/python3.7/site-packages (from python-dateutil>=2.7->matplotlib>=3.0.0->easyfsl) (1.16.0)\r\n",
      "Requirement already satisfied: idna<4,>=2.5 in /opt/conda/lib/python3.7/site-packages (from requests->torchvision>=0.7.0->easyfsl) (3.4)\r\n",
      "Requirement already satisfied: urllib3<1.27,>=1.21.1 in /opt/conda/lib/python3.7/site-packages (from requests->torchvision>=0.7.0->easyfsl) (1.26.14)\r\n",
      "Requirement already satisfied: charset-normalizer<4,>=2 in /opt/conda/lib/python3.7/site-packages (from requests->torchvision>=0.7.0->easyfsl) (2.1.1)\r\n",
      "Requirement already satisfied: certifi>=2017.4.17 in /opt/conda/lib/python3.7/site-packages (from requests->torchvision>=0.7.0->easyfsl) (2022.12.7)\r\n",
      "Installing collected packages: easyfsl\r\n",
      "Successfully installed easyfsl-1.1.0\r\n",
      "\u001b[33mWARNING: Running pip as the 'root' user can result in broken permissions and conflicting behaviour with the system package manager. It is recommended to use a virtual environment instead: https://pip.pypa.io/warnings/venv\u001b[0m\u001b[33m\r\n",
      "\u001b[0m"
     ]
    }
   ],
   "source": [
    "!pip install easyfsl"
   ]
  },
  {
   "cell_type": "code",
   "execution_count": 2,
   "id": "710f1f85",
   "metadata": {
    "_kg_hide-input": true,
    "_kg_hide-output": true,
    "execution": {
     "iopub.execute_input": "2023-03-13T11:30:32.781571Z",
     "iopub.status.busy": "2023-03-13T11:30:32.781123Z",
     "iopub.status.idle": "2023-03-13T11:30:43.064847Z",
     "shell.execute_reply": "2023-03-13T11:30:43.062730Z"
    },
    "papermill": {
     "duration": 10.293727,
     "end_time": "2023-03-13T11:30:43.067976",
     "exception": false,
     "start_time": "2023-03-13T11:30:32.774249",
     "status": "completed"
    },
    "tags": []
   },
   "outputs": [
    {
     "name": "stdout",
     "output_type": "stream",
     "text": [
      "hi\n",
      "X_train shape: (170884, 30)\n",
      "y_train shape: (170884,)\n",
      "X_test shape: (56961, 30)\n",
      "y_test shape: (56961,)\n",
      "X_val shape: (56962, 30)\n",
      "y val shape: (56962,)\n",
      "278\n",
      "108\n",
      "106\n"
     ]
    },
    {
     "data": {
      "text/plain": [
       "torch.Size([56962, 3, 1, 30])"
      ]
     },
     "execution_count": 2,
     "metadata": {},
     "output_type": "execute_result"
    }
   ],
   "source": [
    "print(\"hi\")\n",
    "from easyfsl.samplers import TaskSampler\n",
    "from torch.utils.data import DataLoader\n",
    "from torchvision import transforms\n",
    "from pathlib import Path\n",
    "import random\n",
    "from statistics import mean\n",
    "\n",
    "import torch\n",
    "import pandas as pd \n",
    "import numpy as np\n",
    "from sklearn.model_selection import train_test_split #to do\n",
    "from sklearn.preprocessing import OrdinalEncoder\n",
    "#import seaborn as sns #vis\n",
    "import matplotlib.pyplot as plt\n",
    "from sklearn.metrics import confusion_matrix\n",
    "import torchvision\n",
    "from torch.optim import Adam\n",
    "from tqdm import tqdm\n",
    "import random\n",
    "import torch.nn as nn\n",
    "import torch.nn.functional as F\n",
    "from sklearn.model_selection import train_test_split\n",
    "from torch.utils.data import Dataset, DataLoader\n",
    "import torch.utils.data as data_utils\n",
    "random_seed = 2023\n",
    "np.random.seed(random_seed)\n",
    "torch.manual_seed(random_seed)\n",
    "random.seed(random_seed)\n",
    "torch.backends.cudnn.deterministic = True\n",
    "torch.backends.cudnn.benchmark = False\n",
    "batch_size = 2**9 #2**15\n",
    "df = pd.read_csv('/kaggle/input/creditcardfraud/creditcard.csv')\n",
    "df.head()\n",
    "x=df.drop(\"Class\",axis=1)\n",
    "y=df[\"Class\"]\n",
    "y[y==1].count()\n",
    "X_train, X_test, y_train, y_test = train_test_split(x, y,\n",
    "    test_size=0.4, shuffle = True, random_state = 8)\n",
    "\n",
    "# Use the same function above for the validation set\n",
    "X_test, X_val, y_test, y_val = train_test_split(X_test, y_test, \n",
    "    test_size=0.5, random_state= 8) # 0.25 x 0.8 = 0.2\n",
    "print(\"X_train shape: {}\".format(X_train.shape))\n",
    "print(\"y_train shape: {}\".format(y_train.shape))\n",
    "print(\"X_test shape: {}\".format(X_test.shape))\n",
    "print(\"y_test shape: {}\".format(y_test.shape))\n",
    "print(\"X_val shape: {}\".format(X_val.shape))\n",
    "print(\"y val shape: {}\".format(y_val.shape))\n",
    "print(y_train[y_train==1].count())\n",
    "print(y_val[y_val==1].count())\n",
    "print(y_test[y_test==1].count())\n",
    "x = X_train.values  # Input values.\n",
    "y = y_train.values    # Output values(species categories)\n",
    "xv=X_val.values\n",
    "yv=y_val.values\n",
    "x_train = torch.FloatTensor(x)\n",
    "y_train = torch.tensor(y)\n",
    "x_val= torch.FloatTensor(xv)\n",
    "y_val = torch.tensor(yv)\n",
    "x_train_reshaped=x_train.reshape(170884,1,1,30).expand(-1,3,-1,-1)\n",
    "x_val_reshaped=x_val.reshape(56962,1,1,30).expand(-1,3,-1,-1)\n",
    "x_val_reshaped.shape\n"
   ]
  },
  {
   "cell_type": "code",
   "execution_count": 3,
   "id": "7c954f48",
   "metadata": {
    "execution": {
     "iopub.execute_input": "2023-03-13T11:30:43.080856Z",
     "iopub.status.busy": "2023-03-13T11:30:43.079435Z",
     "iopub.status.idle": "2023-03-13T11:30:43.086344Z",
     "shell.execute_reply": "2023-03-13T11:30:43.085093Z"
    },
    "papermill": {
     "duration": 0.016173,
     "end_time": "2023-03-13T11:30:43.089298",
     "exception": false,
     "start_time": "2023-03-13T11:30:43.073125",
     "status": "completed"
    },
    "tags": []
   },
   "outputs": [],
   "source": [
    "n_way = 2\n",
    "n_shot = 10\n",
    "n_query = 10\n",
    "n_tasks_per_epoch = 100\n",
    "n_validation_tasks = 50\n",
    "\n",
    "device = torch.device(\"cuda\" if torch.cuda.is_available() else \"cpu\")\n",
    "n_workers = 2"
   ]
  },
  {
   "cell_type": "code",
   "execution_count": 4,
   "id": "3b0bd141",
   "metadata": {
    "execution": {
     "iopub.execute_input": "2023-03-13T11:30:43.100502Z",
     "iopub.status.busy": "2023-03-13T11:30:43.100098Z",
     "iopub.status.idle": "2023-03-13T11:30:43.108716Z",
     "shell.execute_reply": "2023-03-13T11:30:43.107333Z"
    },
    "papermill": {
     "duration": 0.017417,
     "end_time": "2023-03-13T11:30:43.111493",
     "exception": false,
     "start_time": "2023-03-13T11:30:43.094076",
     "status": "completed"
    },
    "tags": []
   },
   "outputs": [],
   "source": [
    "train_set = data_utils.TensorDataset(x_train_reshaped, y_train)\n",
    "train_set.get_labels = lambda:  [ y.item() for y in y_train]\n",
    "val_set = data_utils.TensorDataset(x_val_reshaped, y_val)\n",
    "val_set.get_labels = lambda:  [ y.item() for y in y_val]"
   ]
  },
  {
   "cell_type": "code",
   "execution_count": 5,
   "id": "fb94ec44",
   "metadata": {
    "execution": {
     "iopub.execute_input": "2023-03-13T11:30:43.122813Z",
     "iopub.status.busy": "2023-03-13T11:30:43.122362Z",
     "iopub.status.idle": "2023-03-13T11:30:44.007036Z",
     "shell.execute_reply": "2023-03-13T11:30:44.005550Z"
    },
    "papermill": {
     "duration": 0.893746,
     "end_time": "2023-03-13T11:30:44.009997",
     "exception": false,
     "start_time": "2023-03-13T11:30:43.116251",
     "status": "completed"
    },
    "tags": []
   },
   "outputs": [],
   "source": [
    "train_sampler = TaskSampler(\n",
    "    train_set, n_way=n_way, n_shot=n_shot, n_query=n_query, n_tasks=n_tasks_per_epoch\n",
    ")\n",
    "val_sampler = TaskSampler(\n",
    "    val_set, n_way=n_way, n_shot=n_shot, n_query=n_query, n_tasks=n_validation_tasks\n",
    ")"
   ]
  },
  {
   "cell_type": "code",
   "execution_count": 6,
   "id": "73fd3dd8",
   "metadata": {
    "execution": {
     "iopub.execute_input": "2023-03-13T11:30:44.021835Z",
     "iopub.status.busy": "2023-03-13T11:30:44.021410Z",
     "iopub.status.idle": "2023-03-13T11:30:44.028535Z",
     "shell.execute_reply": "2023-03-13T11:30:44.026957Z"
    },
    "papermill": {
     "duration": 0.016499,
     "end_time": "2023-03-13T11:30:44.031669",
     "exception": false,
     "start_time": "2023-03-13T11:30:44.015170",
     "status": "completed"
    },
    "tags": []
   },
   "outputs": [],
   "source": [
    "train_loader = DataLoader(\n",
    "    train_set,\n",
    "    batch_sampler=train_sampler,\n",
    "    #num_workers=n_workers,\n",
    "    pin_memory=True,\n",
    "    collate_fn=train_sampler.episodic_collate_fn,\n",
    ")\n",
    "val_loader = DataLoader(\n",
    "    val_set,\n",
    "    batch_sampler=val_sampler,\n",
    "    #num_workers=n_workers,\n",
    "    pin_memory=True,\n",
    "    collate_fn=val_sampler.episodic_collate_fn,\n",
    ")"
   ]
  },
  {
   "cell_type": "code",
   "execution_count": 7,
   "id": "188e2b7f",
   "metadata": {
    "execution": {
     "iopub.execute_input": "2023-03-13T11:30:44.043484Z",
     "iopub.status.busy": "2023-03-13T11:30:44.043044Z",
     "iopub.status.idle": "2023-03-13T11:30:44.916809Z",
     "shell.execute_reply": "2023-03-13T11:30:44.915478Z"
    },
    "papermill": {
     "duration": 0.883119,
     "end_time": "2023-03-13T11:30:44.920018",
     "exception": false,
     "start_time": "2023-03-13T11:30:44.036899",
     "status": "completed"
    },
    "tags": []
   },
   "outputs": [
    {
     "name": "stderr",
     "output_type": "stream",
     "text": [
      "Downloading: \"https://download.pytorch.org/models/resnet18-f37072fd.pth\" to /root/.cache/torch/hub/checkpoints/resnet18-f37072fd.pth\n"
     ]
    },
    {
     "data": {
      "application/vnd.jupyter.widget-view+json": {
       "model_id": "632c8e2d8a00456798a57a643969b796",
       "version_major": 2,
       "version_minor": 0
      },
      "text/plain": [
       "  0%|          | 0.00/44.7M [00:00<?, ?B/s]"
      ]
     },
     "metadata": {},
     "output_type": "display_data"
    }
   ],
   "source": [
    "from easyfsl.methods import RelationNetworks\n",
    "from torchvision.models import  resnet18,ResNet18_Weights\n",
    "backbone=resnet18(weights=ResNet18_Weights.DEFAULT).to(device)\n",
    "backbone = torch.nn.Sequential(*(list(backbone.children())[:-1]))\n",
    "#backbone.eval()\n",
    "few_shot_classifier = RelationNetworks(backbone).to(device)"
   ]
  },
  {
   "cell_type": "code",
   "execution_count": 8,
   "id": "b4dc3099",
   "metadata": {
    "execution": {
     "iopub.execute_input": "2023-03-13T11:30:44.932916Z",
     "iopub.status.busy": "2023-03-13T11:30:44.931490Z",
     "iopub.status.idle": "2023-03-13T11:30:44.941376Z",
     "shell.execute_reply": "2023-03-13T11:30:44.940116Z"
    },
    "papermill": {
     "duration": 0.019395,
     "end_time": "2023-03-13T11:30:44.944511",
     "exception": false,
     "start_time": "2023-03-13T11:30:44.925116",
     "status": "completed"
    },
    "tags": []
   },
   "outputs": [],
   "source": [
    "from torch.optim import SGD, Optimizer,Adam\n",
    "from torch.optim.lr_scheduler import MultiStepLR\n",
    "#from torch.utils.tensorboard import SummaryWriter\n",
    "\n",
    "\n",
    "LOSS_FUNCTION = nn.CrossEntropyLoss()\n",
    "\n",
    "n_epochs = 200\n",
    "scheduler_milestones = [120, 160]\n",
    "scheduler_gamma = 0.1\n",
    "learning_rate = .001\n",
    "tb_logs_dir = Path(\".\")\n",
    "\n",
    "train_optimizer = SGD(\n",
    "    few_shot_classifier.parameters(), lr=learning_rate\n",
    ")\n",
    "train_scheduler = MultiStepLR(\n",
    "    train_optimizer,\n",
    "    milestones=scheduler_milestones,\n",
    "    gamma=scheduler_gamma,\n",
    ")\n",
    "\n",
    "#tb_writer = SummaryWriter(log_dir=str(tb_logs_dir))"
   ]
  },
  {
   "cell_type": "code",
   "execution_count": 9,
   "id": "41a554ff",
   "metadata": {
    "execution": {
     "iopub.execute_input": "2023-03-13T11:30:44.956158Z",
     "iopub.status.busy": "2023-03-13T11:30:44.955718Z",
     "iopub.status.idle": "2023-03-13T11:30:44.966875Z",
     "shell.execute_reply": "2023-03-13T11:30:44.965579Z"
    },
    "papermill": {
     "duration": 0.020275,
     "end_time": "2023-03-13T11:30:44.969729",
     "exception": false,
     "start_time": "2023-03-13T11:30:44.949454",
     "status": "completed"
    },
    "tags": []
   },
   "outputs": [],
   "source": [
    "def training_epoch(\n",
    "    model, data_loader: DataLoader, optimizer: Optimizer\n",
    "):\n",
    "    all_loss = []\n",
    "    model.train()\n",
    "    with tqdm(\n",
    "        enumerate(data_loader), total=len(data_loader), desc=\"Training\"\n",
    "    ) as tqdm_train:\n",
    "        for episode_index, (\n",
    "            support_images,\n",
    "            support_labels,\n",
    "            query_images,\n",
    "            query_labels,\n",
    "            _,\n",
    "        ) in tqdm_train:\n",
    "            optimizer.zero_grad()\n",
    "            model.process_support_set(support_images.to(device), support_labels.to(device))\n",
    "            #model.process_query_set(query_images.to(device), query_labels.to(device))\n",
    "            #print(torch.isnan(query_images).sum())#torch.isnan(torch.tensor([1, float('nan'), 2])).sum()\n",
    "            classification_scores = model(query_images.to(device))\n",
    "            #print(\"classification_scores \",classification_scores)\n",
    "            print(query_labels)\n",
    "            #that string is what fix that erorr\n",
    "            \"\"\"for i in range(len(query_labels)):\n",
    "                if query_labels[i] !=0:\n",
    "                    query_labels[i]=1\"\"\"\n",
    "            #print(\"classification_scores \",classification_scores)\n",
    "            loss = LOSS_FUNCTION(classification_scores, query_labels.to(device))\n",
    "            loss.backward()\n",
    "            optimizer.step()\n",
    "\n",
    "            all_loss.append(loss.item())\n",
    "\n",
    "            tqdm_train.set_postfix(loss=mean(all_loss))\n",
    "\n",
    "    return mean(all_loss)"
   ]
  },
  {
   "cell_type": "code",
   "execution_count": 10,
   "id": "7a1f1c22",
   "metadata": {
    "execution": {
     "iopub.execute_input": "2023-03-13T11:30:44.982289Z",
     "iopub.status.busy": "2023-03-13T11:30:44.981090Z",
     "iopub.status.idle": "2023-03-13T11:30:44.989737Z",
     "shell.execute_reply": "2023-03-13T11:30:44.988375Z"
    },
    "papermill": {
     "duration": 0.018086,
     "end_time": "2023-03-13T11:30:44.992778",
     "exception": false,
     "start_time": "2023-03-13T11:30:44.974692",
     "status": "completed"
    },
    "tags": []
   },
   "outputs": [],
   "source": [
    "best_state = few_shot_classifier.state_dict()\n",
    "best_validation_accuracy = 0"
   ]
  },
  {
   "cell_type": "code",
   "execution_count": 11,
   "id": "c28fca41",
   "metadata": {
    "execution": {
     "iopub.execute_input": "2023-03-13T11:30:45.007922Z",
     "iopub.status.busy": "2023-03-13T11:30:45.006537Z",
     "iopub.status.idle": "2023-03-13T11:30:45.499557Z",
     "shell.execute_reply": "2023-03-13T11:30:45.497411Z"
    },
    "papermill": {
     "duration": 0.502788,
     "end_time": "2023-03-13T11:30:45.501959",
     "exception": true,
     "start_time": "2023-03-13T11:30:44.999171",
     "status": "failed"
    },
    "tags": []
   },
   "outputs": [
    {
     "name": "stdout",
     "output_type": "stream",
     "text": [
      "I'm not dead\n",
      "Epoch 0\n"
     ]
    },
    {
     "name": "stderr",
     "output_type": "stream",
     "text": [
      "Training:   0%|          | 0/100 [00:00<?, ?it/s]"
     ]
    },
    {
     "name": "stdout",
     "output_type": "stream",
     "text": [
      "tensor([7, 7, 7, 7, 7, 7, 7, 7, 7, 7, 0, 0, 0, 0, 0, 0, 0, 0, 0, 0])\n"
     ]
    },
    {
     "name": "stderr",
     "output_type": "stream",
     "text": [
      "Training:   0%|          | 0/100 [00:00<?, ?it/s]\n"
     ]
    },
    {
     "ename": "IndexError",
     "evalue": "Target 7 is out of bounds.",
     "output_type": "error",
     "traceback": [
      "\u001b[0;31m---------------------------------------------------------------------------\u001b[0m",
      "\u001b[0;31mIndexError\u001b[0m                                Traceback (most recent call last)",
      "\u001b[0;32m/tmp/ipykernel_19/1026322808.py\u001b[0m in \u001b[0;36m<module>\u001b[0;34m\u001b[0m\n\u001b[1;32m      4\u001b[0m \u001b[0;32mfor\u001b[0m \u001b[0mepoch\u001b[0m \u001b[0;32min\u001b[0m \u001b[0mrange\u001b[0m\u001b[0;34m(\u001b[0m\u001b[0mn_epochs\u001b[0m\u001b[0;34m)\u001b[0m\u001b[0;34m:\u001b[0m\u001b[0;34m\u001b[0m\u001b[0;34m\u001b[0m\u001b[0m\n\u001b[1;32m      5\u001b[0m     \u001b[0mprint\u001b[0m\u001b[0;34m(\u001b[0m\u001b[0;34mf\"Epoch {epoch}\"\u001b[0m\u001b[0;34m)\u001b[0m\u001b[0;34m\u001b[0m\u001b[0;34m\u001b[0m\u001b[0m\n\u001b[0;32m----> 6\u001b[0;31m     \u001b[0maverage_loss\u001b[0m \u001b[0;34m=\u001b[0m \u001b[0mtraining_epoch\u001b[0m\u001b[0;34m(\u001b[0m\u001b[0mfew_shot_classifier\u001b[0m\u001b[0;34m,\u001b[0m \u001b[0mtrain_loader\u001b[0m\u001b[0;34m,\u001b[0m \u001b[0mtrain_optimizer\u001b[0m\u001b[0;34m)\u001b[0m\u001b[0;34m\u001b[0m\u001b[0;34m\u001b[0m\u001b[0m\n\u001b[0m\u001b[1;32m      7\u001b[0m     validation_accuracy = evaluate(\n\u001b[1;32m      8\u001b[0m         \u001b[0mfew_shot_classifier\u001b[0m\u001b[0;34m,\u001b[0m \u001b[0mval_loader\u001b[0m\u001b[0;34m,\u001b[0m \u001b[0mdevice\u001b[0m\u001b[0;34m=\u001b[0m\u001b[0mdevice\u001b[0m\u001b[0;34m,\u001b[0m \u001b[0mtqdm_prefix\u001b[0m\u001b[0;34m=\u001b[0m\u001b[0;34m\"Validation\"\u001b[0m\u001b[0;34m\u001b[0m\u001b[0;34m\u001b[0m\u001b[0m\n",
      "\u001b[0;32m/tmp/ipykernel_19/2475989900.py\u001b[0m in \u001b[0;36mtraining_epoch\u001b[0;34m(model, data_loader, optimizer)\u001b[0m\n\u001b[1;32m     26\u001b[0m                     query_labels[i]=1\"\"\"\n\u001b[1;32m     27\u001b[0m             \u001b[0;31m#print(\"classification_scores \",classification_scores)\u001b[0m\u001b[0;34m\u001b[0m\u001b[0;34m\u001b[0m\u001b[0;34m\u001b[0m\u001b[0m\n\u001b[0;32m---> 28\u001b[0;31m             \u001b[0mloss\u001b[0m \u001b[0;34m=\u001b[0m \u001b[0mLOSS_FUNCTION\u001b[0m\u001b[0;34m(\u001b[0m\u001b[0mclassification_scores\u001b[0m\u001b[0;34m,\u001b[0m \u001b[0mquery_labels\u001b[0m\u001b[0;34m.\u001b[0m\u001b[0mto\u001b[0m\u001b[0;34m(\u001b[0m\u001b[0mdevice\u001b[0m\u001b[0;34m)\u001b[0m\u001b[0;34m)\u001b[0m\u001b[0;34m\u001b[0m\u001b[0;34m\u001b[0m\u001b[0m\n\u001b[0m\u001b[1;32m     29\u001b[0m             \u001b[0mloss\u001b[0m\u001b[0;34m.\u001b[0m\u001b[0mbackward\u001b[0m\u001b[0;34m(\u001b[0m\u001b[0;34m)\u001b[0m\u001b[0;34m\u001b[0m\u001b[0;34m\u001b[0m\u001b[0m\n\u001b[1;32m     30\u001b[0m             \u001b[0moptimizer\u001b[0m\u001b[0;34m.\u001b[0m\u001b[0mstep\u001b[0m\u001b[0;34m(\u001b[0m\u001b[0;34m)\u001b[0m\u001b[0;34m\u001b[0m\u001b[0;34m\u001b[0m\u001b[0m\n",
      "\u001b[0;32m/opt/conda/lib/python3.7/site-packages/torch/nn/modules/module.py\u001b[0m in \u001b[0;36m_call_impl\u001b[0;34m(self, *input, **kwargs)\u001b[0m\n\u001b[1;32m   1188\u001b[0m         if not (self._backward_hooks or self._forward_hooks or self._forward_pre_hooks or _global_backward_hooks\n\u001b[1;32m   1189\u001b[0m                 or _global_forward_hooks or _global_forward_pre_hooks):\n\u001b[0;32m-> 1190\u001b[0;31m             \u001b[0;32mreturn\u001b[0m \u001b[0mforward_call\u001b[0m\u001b[0;34m(\u001b[0m\u001b[0;34m*\u001b[0m\u001b[0minput\u001b[0m\u001b[0;34m,\u001b[0m \u001b[0;34m**\u001b[0m\u001b[0mkwargs\u001b[0m\u001b[0;34m)\u001b[0m\u001b[0;34m\u001b[0m\u001b[0;34m\u001b[0m\u001b[0m\n\u001b[0m\u001b[1;32m   1191\u001b[0m         \u001b[0;31m# Do not call functions when jit is used\u001b[0m\u001b[0;34m\u001b[0m\u001b[0;34m\u001b[0m\u001b[0;34m\u001b[0m\u001b[0m\n\u001b[1;32m   1192\u001b[0m         \u001b[0mfull_backward_hooks\u001b[0m\u001b[0;34m,\u001b[0m \u001b[0mnon_full_backward_hooks\u001b[0m \u001b[0;34m=\u001b[0m \u001b[0;34m[\u001b[0m\u001b[0;34m]\u001b[0m\u001b[0;34m,\u001b[0m \u001b[0;34m[\u001b[0m\u001b[0;34m]\u001b[0m\u001b[0;34m\u001b[0m\u001b[0;34m\u001b[0m\u001b[0m\n",
      "\u001b[0;32m/opt/conda/lib/python3.7/site-packages/torch/nn/modules/loss.py\u001b[0m in \u001b[0;36mforward\u001b[0;34m(self, input, target)\u001b[0m\n\u001b[1;32m   1174\u001b[0m         return F.cross_entropy(input, target, weight=self.weight,\n\u001b[1;32m   1175\u001b[0m                                \u001b[0mignore_index\u001b[0m\u001b[0;34m=\u001b[0m\u001b[0mself\u001b[0m\u001b[0;34m.\u001b[0m\u001b[0mignore_index\u001b[0m\u001b[0;34m,\u001b[0m \u001b[0mreduction\u001b[0m\u001b[0;34m=\u001b[0m\u001b[0mself\u001b[0m\u001b[0;34m.\u001b[0m\u001b[0mreduction\u001b[0m\u001b[0;34m,\u001b[0m\u001b[0;34m\u001b[0m\u001b[0;34m\u001b[0m\u001b[0m\n\u001b[0;32m-> 1176\u001b[0;31m                                label_smoothing=self.label_smoothing)\n\u001b[0m\u001b[1;32m   1177\u001b[0m \u001b[0;34m\u001b[0m\u001b[0m\n\u001b[1;32m   1178\u001b[0m \u001b[0;34m\u001b[0m\u001b[0m\n",
      "\u001b[0;32m/opt/conda/lib/python3.7/site-packages/torch/nn/functional.py\u001b[0m in \u001b[0;36mcross_entropy\u001b[0;34m(input, target, weight, size_average, ignore_index, reduce, reduction, label_smoothing)\u001b[0m\n\u001b[1;32m   3024\u001b[0m     \u001b[0;32mif\u001b[0m \u001b[0msize_average\u001b[0m \u001b[0;32mis\u001b[0m \u001b[0;32mnot\u001b[0m \u001b[0;32mNone\u001b[0m \u001b[0;32mor\u001b[0m \u001b[0mreduce\u001b[0m \u001b[0;32mis\u001b[0m \u001b[0;32mnot\u001b[0m \u001b[0;32mNone\u001b[0m\u001b[0;34m:\u001b[0m\u001b[0;34m\u001b[0m\u001b[0;34m\u001b[0m\u001b[0m\n\u001b[1;32m   3025\u001b[0m         \u001b[0mreduction\u001b[0m \u001b[0;34m=\u001b[0m \u001b[0m_Reduction\u001b[0m\u001b[0;34m.\u001b[0m\u001b[0mlegacy_get_string\u001b[0m\u001b[0;34m(\u001b[0m\u001b[0msize_average\u001b[0m\u001b[0;34m,\u001b[0m \u001b[0mreduce\u001b[0m\u001b[0;34m)\u001b[0m\u001b[0;34m\u001b[0m\u001b[0;34m\u001b[0m\u001b[0m\n\u001b[0;32m-> 3026\u001b[0;31m     \u001b[0;32mreturn\u001b[0m \u001b[0mtorch\u001b[0m\u001b[0;34m.\u001b[0m\u001b[0m_C\u001b[0m\u001b[0;34m.\u001b[0m\u001b[0m_nn\u001b[0m\u001b[0;34m.\u001b[0m\u001b[0mcross_entropy_loss\u001b[0m\u001b[0;34m(\u001b[0m\u001b[0minput\u001b[0m\u001b[0;34m,\u001b[0m \u001b[0mtarget\u001b[0m\u001b[0;34m,\u001b[0m \u001b[0mweight\u001b[0m\u001b[0;34m,\u001b[0m \u001b[0m_Reduction\u001b[0m\u001b[0;34m.\u001b[0m\u001b[0mget_enum\u001b[0m\u001b[0;34m(\u001b[0m\u001b[0mreduction\u001b[0m\u001b[0;34m)\u001b[0m\u001b[0;34m,\u001b[0m \u001b[0mignore_index\u001b[0m\u001b[0;34m,\u001b[0m \u001b[0mlabel_smoothing\u001b[0m\u001b[0;34m)\u001b[0m\u001b[0;34m\u001b[0m\u001b[0;34m\u001b[0m\u001b[0m\n\u001b[0m\u001b[1;32m   3027\u001b[0m \u001b[0;34m\u001b[0m\u001b[0m\n\u001b[1;32m   3028\u001b[0m \u001b[0;34m\u001b[0m\u001b[0m\n",
      "\u001b[0;31mIndexError\u001b[0m: Target 7 is out of bounds."
     ]
    }
   ],
   "source": [
    "from easyfsl.methods.utils import evaluate\n",
    "\n",
    "print(\"I'm not dead\")\n",
    "for epoch in range(n_epochs):\n",
    "    print(f\"Epoch {epoch}\")\n",
    "    average_loss = training_epoch(few_shot_classifier, train_loader, train_optimizer)\n",
    "    validation_accuracy = evaluate(\n",
    "        few_shot_classifier, val_loader, device=device, tqdm_prefix=\"Validation\"\n",
    "    )\n",
    "    print(validation_accuracy)\n",
    "    if validation_accuracy > best_validation_accuracy:\n",
    "        best_validation_accuracy = validation_accuracy\n",
    "        best_state = few_shot_classifier.state_dict()\n",
    "        print(\"Ding ding ding! We found a new best model!\")\n",
    "        torch.save(few_shot_classifier.state_dict(),\"checkpoint1.pth\")\n",
    "    #tb_writer.add_scalar(\"Train/loss\", average_loss, epoch)\n",
    "    #tb_writer.add_scalar(\"Val/acc\", validation_accuracy, epoch)\n",
    "\n",
    "    # Warn the scheduler that we did an epoch\n",
    "    # so it knows when to decrease the learning rate\n",
    "    train_scheduler.step()\n",
    "    "
   ]
  }
 ],
 "metadata": {
  "kernelspec": {
   "display_name": "Python 3",
   "language": "python",
   "name": "python3"
  },
  "language_info": {
   "codemirror_mode": {
    "name": "ipython",
    "version": 3
   },
   "file_extension": ".py",
   "mimetype": "text/x-python",
   "name": "python",
   "nbconvert_exporter": "python",
   "pygments_lexer": "ipython3",
   "version": "3.7.12"
  },
  "papermill": {
   "default_parameters": {},
   "duration": 39.203612,
   "end_time": "2023-03-13T11:30:46.734132",
   "environment_variables": {},
   "exception": true,
   "input_path": "__notebook__.ipynb",
   "output_path": "__notebook__.ipynb",
   "parameters": {},
   "start_time": "2023-03-13T11:30:07.530520",
   "version": "2.4.0"
  },
  "widgets": {
   "application/vnd.jupyter.widget-state+json": {
    "state": {
     "2b205d4056084195a29da5a05eb369e8": {
      "model_module": "@jupyter-widgets/controls",
      "model_module_version": "1.5.0",
      "model_name": "DescriptionStyleModel",
      "state": {
       "_model_module": "@jupyter-widgets/controls",
       "_model_module_version": "1.5.0",
       "_model_name": "DescriptionStyleModel",
       "_view_count": null,
       "_view_module": "@jupyter-widgets/base",
       "_view_module_version": "1.2.0",
       "_view_name": "StyleView",
       "description_width": ""
      }
     },
     "535ffd5ace8a469b91e566278d2701d3": {
      "model_module": "@jupyter-widgets/controls",
      "model_module_version": "1.5.0",
      "model_name": "DescriptionStyleModel",
      "state": {
       "_model_module": "@jupyter-widgets/controls",
       "_model_module_version": "1.5.0",
       "_model_name": "DescriptionStyleModel",
       "_view_count": null,
       "_view_module": "@jupyter-widgets/base",
       "_view_module_version": "1.2.0",
       "_view_name": "StyleView",
       "description_width": ""
      }
     },
     "632c8e2d8a00456798a57a643969b796": {
      "model_module": "@jupyter-widgets/controls",
      "model_module_version": "1.5.0",
      "model_name": "HBoxModel",
      "state": {
       "_dom_classes": [],
       "_model_module": "@jupyter-widgets/controls",
       "_model_module_version": "1.5.0",
       "_model_name": "HBoxModel",
       "_view_count": null,
       "_view_module": "@jupyter-widgets/controls",
       "_view_module_version": "1.5.0",
       "_view_name": "HBoxView",
       "box_style": "",
       "children": [
        "IPY_MODEL_b2d87542ec6540e6ad3d40f38219a851",
        "IPY_MODEL_b2b520fea58442a68d539ff8385d4e08",
        "IPY_MODEL_f5ec5b7df21f4cea824f325f09b24758"
       ],
       "layout": "IPY_MODEL_8a2d106d5b2b484eac641a55a2edffb1"
      }
     },
     "632deee94709499b96ecf9fc0bdd7f6c": {
      "model_module": "@jupyter-widgets/controls",
      "model_module_version": "1.5.0",
      "model_name": "ProgressStyleModel",
      "state": {
       "_model_module": "@jupyter-widgets/controls",
       "_model_module_version": "1.5.0",
       "_model_name": "ProgressStyleModel",
       "_view_count": null,
       "_view_module": "@jupyter-widgets/base",
       "_view_module_version": "1.2.0",
       "_view_name": "StyleView",
       "bar_color": null,
       "description_width": ""
      }
     },
     "892d8429a66a4a8aba87fa966e18a313": {
      "model_module": "@jupyter-widgets/base",
      "model_module_version": "1.2.0",
      "model_name": "LayoutModel",
      "state": {
       "_model_module": "@jupyter-widgets/base",
       "_model_module_version": "1.2.0",
       "_model_name": "LayoutModel",
       "_view_count": null,
       "_view_module": "@jupyter-widgets/base",
       "_view_module_version": "1.2.0",
       "_view_name": "LayoutView",
       "align_content": null,
       "align_items": null,
       "align_self": null,
       "border": null,
       "bottom": null,
       "display": null,
       "flex": null,
       "flex_flow": null,
       "grid_area": null,
       "grid_auto_columns": null,
       "grid_auto_flow": null,
       "grid_auto_rows": null,
       "grid_column": null,
       "grid_gap": null,
       "grid_row": null,
       "grid_template_areas": null,
       "grid_template_columns": null,
       "grid_template_rows": null,
       "height": null,
       "justify_content": null,
       "justify_items": null,
       "left": null,
       "margin": null,
       "max_height": null,
       "max_width": null,
       "min_height": null,
       "min_width": null,
       "object_fit": null,
       "object_position": null,
       "order": null,
       "overflow": null,
       "overflow_x": null,
       "overflow_y": null,
       "padding": null,
       "right": null,
       "top": null,
       "visibility": null,
       "width": null
      }
     },
     "8a2d106d5b2b484eac641a55a2edffb1": {
      "model_module": "@jupyter-widgets/base",
      "model_module_version": "1.2.0",
      "model_name": "LayoutModel",
      "state": {
       "_model_module": "@jupyter-widgets/base",
       "_model_module_version": "1.2.0",
       "_model_name": "LayoutModel",
       "_view_count": null,
       "_view_module": "@jupyter-widgets/base",
       "_view_module_version": "1.2.0",
       "_view_name": "LayoutView",
       "align_content": null,
       "align_items": null,
       "align_self": null,
       "border": null,
       "bottom": null,
       "display": null,
       "flex": null,
       "flex_flow": null,
       "grid_area": null,
       "grid_auto_columns": null,
       "grid_auto_flow": null,
       "grid_auto_rows": null,
       "grid_column": null,
       "grid_gap": null,
       "grid_row": null,
       "grid_template_areas": null,
       "grid_template_columns": null,
       "grid_template_rows": null,
       "height": null,
       "justify_content": null,
       "justify_items": null,
       "left": null,
       "margin": null,
       "max_height": null,
       "max_width": null,
       "min_height": null,
       "min_width": null,
       "object_fit": null,
       "object_position": null,
       "order": null,
       "overflow": null,
       "overflow_x": null,
       "overflow_y": null,
       "padding": null,
       "right": null,
       "top": null,
       "visibility": null,
       "width": null
      }
     },
     "8d6e0a4b766e42ffa05b94f1fb6d221d": {
      "model_module": "@jupyter-widgets/base",
      "model_module_version": "1.2.0",
      "model_name": "LayoutModel",
      "state": {
       "_model_module": "@jupyter-widgets/base",
       "_model_module_version": "1.2.0",
       "_model_name": "LayoutModel",
       "_view_count": null,
       "_view_module": "@jupyter-widgets/base",
       "_view_module_version": "1.2.0",
       "_view_name": "LayoutView",
       "align_content": null,
       "align_items": null,
       "align_self": null,
       "border": null,
       "bottom": null,
       "display": null,
       "flex": null,
       "flex_flow": null,
       "grid_area": null,
       "grid_auto_columns": null,
       "grid_auto_flow": null,
       "grid_auto_rows": null,
       "grid_column": null,
       "grid_gap": null,
       "grid_row": null,
       "grid_template_areas": null,
       "grid_template_columns": null,
       "grid_template_rows": null,
       "height": null,
       "justify_content": null,
       "justify_items": null,
       "left": null,
       "margin": null,
       "max_height": null,
       "max_width": null,
       "min_height": null,
       "min_width": null,
       "object_fit": null,
       "object_position": null,
       "order": null,
       "overflow": null,
       "overflow_x": null,
       "overflow_y": null,
       "padding": null,
       "right": null,
       "top": null,
       "visibility": null,
       "width": null
      }
     },
     "b2b520fea58442a68d539ff8385d4e08": {
      "model_module": "@jupyter-widgets/controls",
      "model_module_version": "1.5.0",
      "model_name": "FloatProgressModel",
      "state": {
       "_dom_classes": [],
       "_model_module": "@jupyter-widgets/controls",
       "_model_module_version": "1.5.0",
       "_model_name": "FloatProgressModel",
       "_view_count": null,
       "_view_module": "@jupyter-widgets/controls",
       "_view_module_version": "1.5.0",
       "_view_name": "ProgressView",
       "bar_style": "success",
       "description": "",
       "description_tooltip": null,
       "layout": "IPY_MODEL_892d8429a66a4a8aba87fa966e18a313",
       "max": 46830571.0,
       "min": 0.0,
       "orientation": "horizontal",
       "style": "IPY_MODEL_632deee94709499b96ecf9fc0bdd7f6c",
       "value": 46830571.0
      }
     },
     "b2d87542ec6540e6ad3d40f38219a851": {
      "model_module": "@jupyter-widgets/controls",
      "model_module_version": "1.5.0",
      "model_name": "HTMLModel",
      "state": {
       "_dom_classes": [],
       "_model_module": "@jupyter-widgets/controls",
       "_model_module_version": "1.5.0",
       "_model_name": "HTMLModel",
       "_view_count": null,
       "_view_module": "@jupyter-widgets/controls",
       "_view_module_version": "1.5.0",
       "_view_name": "HTMLView",
       "description": "",
       "description_tooltip": null,
       "layout": "IPY_MODEL_8d6e0a4b766e42ffa05b94f1fb6d221d",
       "placeholder": "​",
       "style": "IPY_MODEL_2b205d4056084195a29da5a05eb369e8",
       "value": "100%"
      }
     },
     "eb58b657d0b9420aac71739be9eb7104": {
      "model_module": "@jupyter-widgets/base",
      "model_module_version": "1.2.0",
      "model_name": "LayoutModel",
      "state": {
       "_model_module": "@jupyter-widgets/base",
       "_model_module_version": "1.2.0",
       "_model_name": "LayoutModel",
       "_view_count": null,
       "_view_module": "@jupyter-widgets/base",
       "_view_module_version": "1.2.0",
       "_view_name": "LayoutView",
       "align_content": null,
       "align_items": null,
       "align_self": null,
       "border": null,
       "bottom": null,
       "display": null,
       "flex": null,
       "flex_flow": null,
       "grid_area": null,
       "grid_auto_columns": null,
       "grid_auto_flow": null,
       "grid_auto_rows": null,
       "grid_column": null,
       "grid_gap": null,
       "grid_row": null,
       "grid_template_areas": null,
       "grid_template_columns": null,
       "grid_template_rows": null,
       "height": null,
       "justify_content": null,
       "justify_items": null,
       "left": null,
       "margin": null,
       "max_height": null,
       "max_width": null,
       "min_height": null,
       "min_width": null,
       "object_fit": null,
       "object_position": null,
       "order": null,
       "overflow": null,
       "overflow_x": null,
       "overflow_y": null,
       "padding": null,
       "right": null,
       "top": null,
       "visibility": null,
       "width": null
      }
     },
     "f5ec5b7df21f4cea824f325f09b24758": {
      "model_module": "@jupyter-widgets/controls",
      "model_module_version": "1.5.0",
      "model_name": "HTMLModel",
      "state": {
       "_dom_classes": [],
       "_model_module": "@jupyter-widgets/controls",
       "_model_module_version": "1.5.0",
       "_model_name": "HTMLModel",
       "_view_count": null,
       "_view_module": "@jupyter-widgets/controls",
       "_view_module_version": "1.5.0",
       "_view_name": "HTMLView",
       "description": "",
       "description_tooltip": null,
       "layout": "IPY_MODEL_eb58b657d0b9420aac71739be9eb7104",
       "placeholder": "​",
       "style": "IPY_MODEL_535ffd5ace8a469b91e566278d2701d3",
       "value": " 44.7M/44.7M [00:00&lt;00:00, 184MB/s]"
      }
     }
    },
    "version_major": 2,
    "version_minor": 0
   }
  }
 },
 "nbformat": 4,
 "nbformat_minor": 5
}
